{
 "cells": [
  {
   "cell_type": "code",
   "execution_count": 1,
   "metadata": {},
   "outputs": [],
   "source": [
    "import pandas as pd\n",
    "import re"
   ]
  },
  {
   "cell_type": "code",
   "execution_count": 20,
   "metadata": {},
   "outputs": [
    {
     "data": {
      "text/html": [
       "<div>\n",
       "<style scoped>\n",
       "    .dataframe tbody tr th:only-of-type {\n",
       "        vertical-align: middle;\n",
       "    }\n",
       "\n",
       "    .dataframe tbody tr th {\n",
       "        vertical-align: top;\n",
       "    }\n",
       "\n",
       "    .dataframe thead th {\n",
       "        text-align: right;\n",
       "    }\n",
       "</style>\n",
       "<table border=\"1\" class=\"dataframe\">\n",
       "  <thead>\n",
       "    <tr style=\"text-align: right;\">\n",
       "      <th></th>\n",
       "      <th>cluster</th>\n",
       "      <th>cantidad_de_palabras_clave</th>\n",
       "      <th>porcentaje_de_palabras_clave</th>\n",
       "      <th>principales_palabras_clave</th>\n",
       "    </tr>\n",
       "  </thead>\n",
       "  <tbody>\n",
       "    <tr>\n",
       "      <th>0</th>\n",
       "      <td>1.0</td>\n",
       "      <td>105.0</td>\n",
       "      <td>15.9</td>\n",
       "      <td>maximum power point tracking, fuzzy-logic base...</td>\n",
       "    </tr>\n",
       "    <tr>\n",
       "      <th>1</th>\n",
       "      <td>2.0</td>\n",
       "      <td>102.0</td>\n",
       "      <td>15.4</td>\n",
       "      <td>support vector machine, long short-term memory...</td>\n",
       "    </tr>\n",
       "    <tr>\n",
       "      <th>2</th>\n",
       "      <td>3.0</td>\n",
       "      <td>89.0</td>\n",
       "      <td>13.4</td>\n",
       "      <td>smart grid, wind power, reinforcement learning...</td>\n",
       "    </tr>\n",
       "    <tr>\n",
       "      <th>3</th>\n",
       "      <td>4.0</td>\n",
       "      <td>60.0</td>\n",
       "      <td>9.1</td>\n",
       "      <td>wind turbine, fault diagnosis, biodiesel, fail...</td>\n",
       "    </tr>\n",
       "    <tr>\n",
       "      <th>4</th>\n",
       "      <td>5.0</td>\n",
       "      <td>52.0</td>\n",
       "      <td>7.9</td>\n",
       "      <td>electric vehicle, lithium-ion batteries, state...</td>\n",
       "    </tr>\n",
       "    <tr>\n",
       "      <th>5</th>\n",
       "      <td>6.0</td>\n",
       "      <td>51.0</td>\n",
       "      <td>7.7</td>\n",
       "      <td>particle swarm optimization, distribute genera...</td>\n",
       "    </tr>\n",
       "    <tr>\n",
       "      <th>6</th>\n",
       "      <td>7.0</td>\n",
       "      <td>42.0</td>\n",
       "      <td>6.3</td>\n",
       "      <td>multi-objective optimization, energy storage, ...</td>\n",
       "    </tr>\n",
       "    <tr>\n",
       "      <th>7</th>\n",
       "      <td>8.0</td>\n",
       "      <td>38.0</td>\n",
       "      <td>5.7</td>\n",
       "      <td>genetic algorithm, demand-side management, ene...</td>\n",
       "    </tr>\n",
       "    <tr>\n",
       "      <th>8</th>\n",
       "      <td>9.0</td>\n",
       "      <td>35.0</td>\n",
       "      <td>5.3</td>\n",
       "      <td>anfis, global solar irradiance, solar irradian...</td>\n",
       "    </tr>\n",
       "    <tr>\n",
       "      <th>9</th>\n",
       "      <td>10.0</td>\n",
       "      <td>27.0</td>\n",
       "      <td>4.1</td>\n",
       "      <td>micro grid, multi-agent systems, distributed e...</td>\n",
       "    </tr>\n",
       "    <tr>\n",
       "      <th>10</th>\n",
       "      <td>11.0</td>\n",
       "      <td>22.0</td>\n",
       "      <td>3.3</td>\n",
       "      <td>hydrogen, biochar, biomass, biogas, microbial ...</td>\n",
       "    </tr>\n",
       "    <tr>\n",
       "      <th>11</th>\n",
       "      <td>12.0</td>\n",
       "      <td>22.0</td>\n",
       "      <td>3.3</td>\n",
       "      <td>state of charge (soc) estimation, radial basis...</td>\n",
       "    </tr>\n",
       "    <tr>\n",
       "      <th>12</th>\n",
       "      <td>13.0</td>\n",
       "      <td>17.0</td>\n",
       "      <td>2.6</td>\n",
       "      <td>pem fuel cell, solid-oxide fuel cell, deep-bel...</td>\n",
       "    </tr>\n",
       "  </tbody>\n",
       "</table>\n",
       "</div>"
      ],
      "text/plain": [
       "    cluster  cantidad_de_palabras_clave  porcentaje_de_palabras_clave  \\\n",
       "0       1.0                       105.0                          15.9   \n",
       "1       2.0                       102.0                          15.4   \n",
       "2       3.0                        89.0                          13.4   \n",
       "3       4.0                        60.0                           9.1   \n",
       "4       5.0                        52.0                           7.9   \n",
       "5       6.0                        51.0                           7.7   \n",
       "6       7.0                        42.0                           6.3   \n",
       "7       8.0                        38.0                           5.7   \n",
       "8       9.0                        35.0                           5.3   \n",
       "9      10.0                        27.0                           4.1   \n",
       "10     11.0                        22.0                           3.3   \n",
       "11     12.0                        22.0                           3.3   \n",
       "12     13.0                        17.0                           2.6   \n",
       "\n",
       "                           principales_palabras_clave  \n",
       "0   maximum power point tracking, fuzzy-logic base...  \n",
       "1   support vector machine, long short-term memory...  \n",
       "2   smart grid, wind power, reinforcement learning...  \n",
       "3   wind turbine, fault diagnosis, biodiesel, fail...  \n",
       "4   electric vehicle, lithium-ion batteries, state...  \n",
       "5   particle swarm optimization, distribute genera...  \n",
       "6   multi-objective optimization, energy storage, ...  \n",
       "7   genetic algorithm, demand-side management, ene...  \n",
       "8   anfis, global solar irradiance, solar irradian...  \n",
       "9   micro grid, multi-agent systems, distributed e...  \n",
       "10  hydrogen, biochar, biomass, biogas, microbial ...  \n",
       "11  state of charge (soc) estimation, radial basis...  \n",
       "12  pem fuel cell, solid-oxide fuel cell, deep-bel...  "
      ]
     },
     "execution_count": 20,
     "metadata": {},
     "output_type": "execute_result"
    }
   ],
   "source": [
    "def ingest_data():\n",
    "\n",
    "    #\n",
    "    # Inserte su código aquí\n",
    "    #\n",
    "    import re\n",
    "    indice = -1\n",
    "\n",
    "    df = pd.read_fwf('clusters_report.txt', skiprows=4, \n",
    "                    names = ['cluster', \n",
    "                            'cantidad_de_palabras_clave', \n",
    "                            'porcentaje_de_palabras_clave', \n",
    "                            'principales_palabras_clave'], \n",
    "                    widths = [9,16,16,77])\n",
    "\n",
    "\n",
    "    line = '' # variable para almacenar el texto a añadir\n",
    "\n",
    "    for index, row in df.iterrows():\n",
    "        if index == 0 or not pd.isna(row['cluster']):\n",
    "            indice = index # guardar el índice de la fila en donde se añadirán las demás\n",
    "        else:\n",
    "            # si no hay espacio antes, lo añade\n",
    "            if df.iloc[index-1, 3][-1] != ' ':\n",
    "                line += ' '\n",
    "            line += row['principales_palabras_clave'].rstrip('.') # si la línea termina en . lo elimina\n",
    "            df.iloc[indice, 3] += line\n",
    "            line = ''\n",
    "        \n",
    "        df.iloc[indice, 3] = re.sub('\\s{2,}', ' ', df.iloc[indice, 3]) # usando regex reemplazar los más de dos espacios por un solo espacio entre palabras\n",
    "\n",
    "    # eliminar las filas vacías, reiniciar los índices y eliminar la columna índice resultante\n",
    "    df.dropna(axis = 0, inplace = True)\n",
    "    df.reset_index(inplace=True)\n",
    "    df.drop(axis=1, labels='index', inplace=True)\n",
    "\n",
    "    # convertir al tipo adecuado los datos de la columna porcentaje_de_palabras_clave\n",
    "    df.porcentaje_de_palabras_clave = df.porcentaje_de_palabras_clave.str.strip('%')\n",
    "    df.porcentaje_de_palabras_clave = df.porcentaje_de_palabras_clave.str.replace(',', '.').astype(float)\n",
    "\n",
    "    return df\n",
    "\n",
    "ingest_data()"
   ]
  },
  {
   "cell_type": "markdown",
   "metadata": {},
   "source": [
    "### Test 1"
   ]
  },
  {
   "cell_type": "code",
   "execution_count": 21,
   "metadata": {},
   "outputs": [
    {
     "data": {
      "text/plain": [
       "True"
      ]
     },
     "execution_count": 21,
     "metadata": {},
     "output_type": "execute_result"
    }
   ],
   "source": [
    "ingest_data().cantidad_de_palabras_clave.to_list() == [\n",
    "        105,\n",
    "        102,\n",
    "        89,\n",
    "        60,\n",
    "        52,\n",
    "        51,\n",
    "        42,\n",
    "        38,\n",
    "        35,\n",
    "        27,\n",
    "        22,\n",
    "        22,\n",
    "        17,\n",
    "    ]"
   ]
  },
  {
   "cell_type": "markdown",
   "metadata": {},
   "source": [
    "### Test 2"
   ]
  },
  {
   "cell_type": "code",
   "execution_count": 22,
   "metadata": {},
   "outputs": [
    {
     "data": {
      "text/plain": [
       "True"
      ]
     },
     "execution_count": 22,
     "metadata": {},
     "output_type": "execute_result"
    }
   ],
   "source": [
    "ingest_data().cantidad_de_palabras_clave.to_list() == [\n",
    "        105,\n",
    "        102,\n",
    "        89,\n",
    "        60,\n",
    "        52,\n",
    "        51,\n",
    "        42,\n",
    "        38,\n",
    "        35,\n",
    "        27,\n",
    "        22,\n",
    "        22,\n",
    "        17,\n",
    "    ]"
   ]
  },
  {
   "cell_type": "markdown",
   "metadata": {},
   "source": [
    "### Test 3"
   ]
  },
  {
   "cell_type": "code",
   "execution_count": 23,
   "metadata": {},
   "outputs": [
    {
     "data": {
      "text/plain": [
       "True"
      ]
     },
     "execution_count": 23,
     "metadata": {},
     "output_type": "execute_result"
    }
   ],
   "source": [
    "ingest_data().porcentaje_de_palabras_clave.to_list() == [\n",
    "        15.9,\n",
    "        15.4,\n",
    "        13.4,\n",
    "        9.1,\n",
    "        7.9,\n",
    "        7.7,\n",
    "        6.3,\n",
    "        5.7,\n",
    "        5.3,\n",
    "        4.1,\n",
    "        3.3,\n",
    "        3.3,\n",
    "        2.6,\n",
    "    ]"
   ]
  },
  {
   "cell_type": "markdown",
   "metadata": {},
   "source": [
    "### Test 4"
   ]
  },
  {
   "cell_type": "code",
   "execution_count": 24,
   "metadata": {},
   "outputs": [],
   "source": [
    "assert (\n",
    "    ingest_data().principales_palabras_clave.to_list()[0]\n",
    "    == \"maximum power point tracking, fuzzy-logic based control, photo voltaic (pv), photo-voltaic system, differential evolution algorithm, evolutionary algorithm, double-fed induction generator (dfig), ant colony optimisation, photo voltaic array, firefly algorithm, partial shade\"\n",
    ")\n",
    "\n",
    "assert (\n",
    "    ingest_data().principales_palabras_clave.to_list()[1]\n",
    "    == \"support vector machine, long short-term memory, back-propagation neural network, convolution neural network, speed wind prediction, energy consumption, wind power forecasting, extreme learning machine, recurrent-neural-network (rnn), radial basis function (rbf) networks, wind farm\"\n",
    ")\n",
    "\n",
    "assert (\n",
    "    ingest_data().principales_palabras_clave.to_list()[2]\n",
    "    == \"smart grid, wind power, reinforcement learning, energy management, energy efficiency, solar energy, deep reinforcement learning, demand-response (dr), internet of things, energy harvester, q-learning\"\n",
    ")\n",
    "\n",
    "assert (\n",
    "    ingest_data().principales_palabras_clave.to_list()[3]\n",
    "    == \"wind turbine, fault diagnosis, biodiesel, failure detection, response-surface methodology, condition monitoring, load forecasting, energy consumption forecast, anomalies detection, optimization-based algorithm, supervisory control and data acquisition\"\n",
    ")\n",
    "\n",
    "assert (\n",
    "    ingest_data().principales_palabras_clave.to_list()[4]\n",
    "    == \"electric vehicle, lithium-ion batteries, state of charge, state of health, hybrid-electric vehicle, energy management strategies, energy management system, remaining useful life, battery management system, transfer learning, hybrid energy storage\"\n",
    ")\n",
    "\n",
    "assert (\n",
    "    ingest_data().principales_palabras_clave.to_list()[5]\n",
    "    == \"particle swarm optimization, distribute generation, solar irradiance, artificial bee colonies, energy storage systems, bat algorithm, gravitational search algorithm, distributed system, multi-objective swarm optimization (mopso), optimal power-flow (opf), load-frequency control\"\n",
    ")\n",
    "\n",
    "assert (\n",
    "    ingest_data().principales_palabras_clave.to_list()[6]\n",
    "    == \"multi-objective optimization, energy storage, economic dispatch, non-dominated sorting genetic algorithm, sensitive analysis, hybrid renewable energy source, plug-in electric vehicle, combined-heat and power, multi-objective genetic algorithm, unit-commitment, dc-dc converters\"\n",
    ")\n",
    "\n",
    "assert (\n",
    "    ingest_data().principales_palabras_clave.to_list()[7]\n",
    "    == \"genetic algorithm, demand-side management, energy-saving, hybrid electric system (hes), wind turbine blade, data-driven modelling, simulated annealing, solar forecasting, geographic information system, renewable energy system, cogeneration\"\n",
    ")\n",
    "\n",
    "assert (\n",
    "    ingest_data().principales_palabras_clave.to_list()[8]\n",
    "    == \"anfis, global solar irradiance, solar irradiance forecast, genetic programing, islanding detection, expert system, distributed networks, evolutionary computation, wavelet-based neural network, root mean square errors, virtual power plant\"\n",
    ")\n",
    "\n",
    "assert (\n",
    "    ingest_data().principales_palabras_clave.to_list()[9]\n",
    "    == \"micro grid, multi-agent systems, distributed energy resource, batteries energy storage system, dc micro grid, pitch-control, droop control, hybrid ac/dc microgrid, voltage regulation, superconducting magnetic energy storage, distributed-control\"\n",
    ")\n",
    "\n",
    "assert (\n",
    "    ingest_data().principales_palabras_clave.to_list()[10]\n",
    "    == \"hydrogen, biochar, biomass, biogas, microbial fuel cell, gasification, biofuel, ethanol, engine performance, pyrolysis, anaerobic digester\"\n",
    ")\n",
    "\n",
    "assert (\n",
    "    ingest_data().principales_palabras_clave.to_list()[11]\n",
    "    == \"state of charge (soc) estimation, radial basis function, short-term load forecasting, computational fluid dynamics, generalized-regression neural network, monte-carlo simulation, multiple linear regression, power generation, nonlinear auto-regressive exogenous (narx) model neural networks, surrogate model, extreme gradient boosting\"\n",
    ")\n",
    "\n",
    "assert (\n",
    "    ingest_data().principales_palabras_clave.to_list()[12]\n",
    "    == \"pem fuel cell, solid-oxide fuel cell, deep-belief networks, energy optimisation, particles-size distributions, biomass gasification, exergy, battery management, hydrogen production, numeric simulation, system-identification\"\n",
    ")"
   ]
  }
 ],
 "metadata": {
  "kernelspec": {
   "display_name": "Python 3.10.7 64-bit (microsoft store)",
   "language": "python",
   "name": "python3"
  },
  "language_info": {
   "codemirror_mode": {
    "name": "ipython",
    "version": 3
   },
   "file_extension": ".py",
   "mimetype": "text/x-python",
   "name": "python",
   "nbconvert_exporter": "python",
   "pygments_lexer": "ipython3",
   "version": "3.10.8"
  },
  "orig_nbformat": 4,
  "vscode": {
   "interpreter": {
    "hash": "c40c2e94b44540d55f16bcb7a9e45ade0708cf295825c98f3d38101cabba3f32"
   }
  }
 },
 "nbformat": 4,
 "nbformat_minor": 2
}
