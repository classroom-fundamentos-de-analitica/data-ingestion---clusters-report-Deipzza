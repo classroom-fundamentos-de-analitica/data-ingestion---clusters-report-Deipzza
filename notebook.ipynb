{
 "cells": [
  {
   "cell_type": "code",
   "execution_count": 1,
   "metadata": {},
   "outputs": [],
   "source": [
    "import pandas as pd"
   ]
  },
  {
   "cell_type": "code",
   "execution_count": 105,
   "metadata": {},
   "outputs": [
    {
     "name": "stdout",
     "output_type": "stream",
     "text": [
      "13\n",
      "1     105             15,9 %          maximum power point tracking, fuzzy-logic based control, photo voltaic (pv), photo-voltaic  system,  differential   evolution   algorithm,   evolutionaryalgorithm, double-fed induction generator (dfig), ant  colony  optimisation, photo voltaic array, firefly algorithm, partial shade.\n",
      "2     102             15,4 %          support vector machine,  long  short-term  memory,  back-propagation  neuralnetwork,  convolution  neural  network,  speed   wind   prediction,   energyconsumption,   wind   power   forecasting,   extreme    learning    machine,recurrent-neural-network (rnn), radial basis function (rbf)  networks,  wind farm.\n",
      "3     89              13,4 %          smart grid, wind power, reinforcement learning,  energy  management,  energy efficiency, solar energy, deep reinforcement learning, demand-response (dr),internet of things, energy harvester, q-learning.\n",
      "4     60              9,1 %           wind   turbine,   fault    diagnosis,    biodiesel,    failure    detection,response-surface methodology, condition monitoring, load forecasting, energyconsumption forecast,  anomalies  detection,  optimization-based  algorithm, supervisory control and data acquisition.\n",
      "5     52              7,9 %           electric vehicle, lithium-ion batteries, state of charge, state  of  health,hybrid-electric vehicle, energy  management  strategies,  energy  management system, remaining useful life, battery management system, transfer learning, hybrid energy storage.\n",
      "6     51              7,7 %           particle  swarm  optimization,  distribute  generation,  solar   irradiance,artificial  bee   colonies,   energy   storage   systems,   bat   algorithm,gravitational search algorithm, distributed  system,  multi-objective  swarmoptimization  (mopso),  optimal  power-flow  (opf),  load-frequency  control\n",
      "7     42              6,3 %           multi-objective   optimization,   energy   storage,    economic    dispatch,non-dominated  sorting  genetic  algorithm,   sensitive   analysis,   hybridrenewable energy source, plug-in electric vehicle, combined-heat and  power,multi-objective genetic algorithm, unit-commitment, dc-dc converters.\n",
      "8     38              5,7 %           genetic algorithm, demand-side  management,  energy-saving,  hybrid  electric system (hes), wind turbine blade, data-driven modelling, simulated annealing, solar forecasting, geographic information system,  renewable  energy  system,cogeneration.\n",
      "9     35              5,3 %           anfis,   global   solar   irradiance,  solar  irradiance  forecast,   geneticprograming,   islanding   detection,   expert  system,  distributed networks, evolutionary computation,  wavelet-based  neural  network,   root mean square errors, virtual power plant.\n",
      "10    27              4,1 %           micro grid,  multi-agent  systems,  distributed  energy  resource,  batteries energy storage system, dc micro grid, pitch-control,  droop  control,  hybrid ac/dc microgrid, voltage regulation, superconducting magnetic energy storage, distributed-control.\n",
      "11    22              3,3 %           hydrogen,  biochar,  biomass,  biogas,  microbial  fuel  cell,  gasification, biofuel, ethanol, engine performance, pyrolysis, anaerobic digester.\n",
      "12    22              3,3 %           state of charge (soc) estimation,  radial  basis  function,  short-term  loadforecasting,  computational  fluid  dynamics,  generalized-regression  neuralnetwork,  monte-carlo   simulation,   multiple   linear   regression,   powergeneration,   nonlinear   auto-regressive   exogenous   (narx)  model  neuralnetworks, surrogate model, extreme gradient boosting.\n",
      "13    17              2,6 %           pem   fuel   cell,   solid-oxide  fuel  cell,  deep-belief  networks,  energyoptimisation, particles-size  distributions,  biomass  gasification,  exergy, battery    management,    hydrogen     production,     numeric    simulation, system-identification.\n"
     ]
    }
   ],
   "source": [
    "def ingest_data():\n",
    "\n",
    "    #\n",
    "    # Inserte su código aquí\n",
    "    #\n",
    "    df = pd.read_fwf('clusters_report.txt', skiprows=4, \n",
    "                    names = ['Cluster', \n",
    "                            'Cantidad_de_palabras_clave', \n",
    "                            'Porcentaje_de_palabras_clave', \n",
    "                            'Principales_palabras_claves'], \n",
    "                    widths = [9,16,16,77])\n",
    "\n",
    "\n",
    "\n",
    "    return df.head(20)\n",
    "\n",
    "with open('clusters_report.txt', 'r') as file:\n",
    "    rows = file.readlines()\n",
    "\n",
    "    lines = []\n",
    "    line = ''\n",
    "\n",
    "    for i in range(4, len(rows)):\n",
    "        # print(repr(rows[i].lstrip()))\n",
    "        if rows[i].lstrip() != '':\n",
    "            line += rows[i].lstrip()[:-1]\n",
    "\n",
    "        else:\n",
    "            # print(\"línea: \" + line)\n",
    "            lines.append(line)\n",
    "            line = ''\n",
    "    # lines.append(line)\n",
    "\n",
    "print(len(lines))\n",
    "\n",
    "for e in lines:\n",
    "    print(e)"
   ]
  }
 ],
 "metadata": {
  "kernelspec": {
   "display_name": "Python 3.10.7 64-bit (microsoft store)",
   "language": "python",
   "name": "python3"
  },
  "language_info": {
   "name": "python",
   "version": "3.10.7"
  },
  "orig_nbformat": 4,
  "vscode": {
   "interpreter": {
    "hash": "c40c2e94b44540d55f16bcb7a9e45ade0708cf295825c98f3d38101cabba3f32"
   }
  }
 },
 "nbformat": 4,
 "nbformat_minor": 2
}
